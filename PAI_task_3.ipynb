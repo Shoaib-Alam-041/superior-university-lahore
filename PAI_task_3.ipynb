{
  "nbformat": 4,
  "nbformat_minor": 0,
  "metadata": {
    "colab": {
      "provenance": []
    },
    "kernelspec": {
      "name": "python3",
      "display_name": "Python 3"
    },
    "language_info": {
      "name": "python"
    }
  },
  "cells": [
    {
      "cell_type": "code",
      "execution_count": 1,
      "metadata": {
        "colab": {
          "base_uri": "https://localhost:8080/"
        },
        "id": "GpLQPPaMnhSd",
        "outputId": "83647fb6-e23b-4034-c1a3-24257b0c66bc"
      },
      "outputs": [
        {
          "output_type": "stream",
          "name": "stdout",
          "text": [
            "Solution Path: [(0, 0), (0, 3), (3, 0), (3, 3), (4, 2)]\n"
          ]
        },
        {
          "output_type": "execute_result",
          "data": {
            "text/plain": [
              "[(0, 0), (0, 3), (3, 0), (3, 3), (4, 2)]"
            ]
          },
          "metadata": {},
          "execution_count": 1
        }
      ],
      "source": [
        "\n",
        "from collections import deque\n",
        "\n",
        "def is_valid(state, capacity):\n",
        "    return 0 <= state[0] <= capacity[0] and 0 <= state[1] <= capacity[1]\n",
        "\n",
        "def water_jug_dfs(capacity, target):\n",
        "    stack = deque()\n",
        "    visited = set()\n",
        "    # (jug1, jug2, path)\n",
        "    stack.append((0, 0, []))\n",
        "\n",
        "    while stack:\n",
        "        jug1, jug2, path = stack.pop()\n",
        "\n",
        "        if (jug1, jug2) in visited:\n",
        "            continue\n",
        "        visited.add((jug1, jug2))\n",
        "        path.append((jug1, jug2))\n",
        "\n",
        "        if jug1 == target or jug2 == target:\n",
        "            print(\"Solution Path:\", path)\n",
        "            return path\n",
        "\n",
        "\n",
        "        moves = [\n",
        "            (capacity[0], jug2),\n",
        "            (jug1, capacity[1]),\n",
        "            (0, jug2),\n",
        "            (jug1, 0),\n",
        "            (jug1 - min(jug1, capacity[1] - jug2), jug2 + min(jug1, capacity[1] - jug2)),\n",
        "            (jug1 + min(jug2, capacity[0] - jug1), jug2 - min(jug2, capacity[0] - jug1))\n",
        "        ]\n",
        "\n",
        "        for new_state in moves:\n",
        "            if is_valid(new_state, capacity) and new_state not in visited:\n",
        "                stack.append((new_state[0], new_state[1], path.copy()))\n",
        "\n",
        "    print(\"No solution found\")\n",
        "    return None\n",
        "\n",
        "capacity = (4, 3)\n",
        "target = 2\n",
        "water_jug_dfs(capacity, target)\n",
        "\n"
      ]
    }
  ]
}